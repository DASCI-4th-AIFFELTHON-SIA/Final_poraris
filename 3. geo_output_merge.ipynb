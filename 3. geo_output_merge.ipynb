{
 "cells": [
  {
   "cell_type": "code",
   "execution_count": 4,
   "id": "3d2e5e68",
   "metadata": {},
   "outputs": [
    {
     "name": "stdout",
     "output_type": "stream",
     "text": [
      "새로운 JSON 파일이 '/home/ds4_sia_nolb/#FINAL_POLARIS/06_Geo_coding/re_final_combined_data_ten_year.json'에 성공적으로 저장되었습니다.\n"
     ]
    }
   ],
   "source": [
    "import json\n",
    "import jsonlines\n",
    "\n",
    "# 1. 파일 경로 정의\n",
    "locations_file_path = '/home/ds4_sia_nolb/#FINAL_POLARIS/06_Geo_coding/re_extracted_locations_result_ten_year_all.jsonl'\n",
    "preprocessing_file_path = '/home/ds4_sia_nolb/#FINAL_POLARIS/04_plus_preprocessing/preprocessing_final_data/re_final_preprocessing.json'\n",
    "output_file_path = '/home/ds4_sia_nolb/#FINAL_POLARIS/06_Geo_coding/re_final_combined_data_ten_year.json'\n",
    "\n",
    "# 2. locations 파일에서 데이터 매핑\n",
    "locations_map = {}\n",
    "with jsonlines.open(locations_file_path) as reader:\n",
    "    for obj in reader:\n",
    "        locations_map[obj['id_']] = obj['locations']\n",
    "\n",
    "# 3. preprocessing 파일 불러오기 (리스트 형태라고 가정)\n",
    "with open(preprocessing_file_path, 'r', encoding='utf-8') as f:\n",
    "    preprocessing_list = json.load(f)\n",
    "\n",
    "# 4. id_를 기준으로 preprocessing 데이터를 빠르게 찾기 위한 딕셔너리 생성\n",
    "# 이 단계는 preprocessing_list가 매우 클 때 효율성을 높여줍니다.\n",
    "preprocessing_map = {doc.get('id_'): doc for doc in preprocessing_list}\n",
    "\n",
    "# 5. locations_map의 id_를 기준으로 데이터 결합\n",
    "combined_data_list = []\n",
    "for doc_id, locations in locations_map.items():\n",
    "    # preprocessing_map에서 해당 id_를 가진 문서를 찾습니다.\n",
    "    preprocessing_doc = preprocessing_map.get(doc_id)\n",
    "    \n",
    "    # 해당 문서가 존재하는 경우에만 결합\n",
    "    if preprocessing_doc:\n",
    "        pub_date = preprocessing_doc.get('metadata', {}).get('pubDate')\n",
    "        title = preprocessing_doc.get('metadata', {}).get('title')\n",
    "        url = preprocessing_doc.get('metadata', {}).get('url')\n",
    "        \n",
    "        new_data = {\n",
    "            'id_': doc_id,\n",
    "            'title': title,\n",
    "            'url': url,\n",
    "            'pubDate': pub_date,\n",
    "            'locations': locations\n",
    "        }\n",
    "        combined_data_list.append(new_data)\n",
    "\n",
    "# 6. 새로운 JSON 파일로 저장\n",
    "with open(output_file_path, 'w', encoding='utf-8') as f:\n",
    "    json.dump(combined_data_list, f, indent=4, ensure_ascii=False)\n",
    "\n",
    "print(f\"새로운 JSON 파일이 '{output_file_path}'에 성공적으로 저장되었습니다.\")"
   ]
  },
  {
   "cell_type": "code",
   "execution_count": 5,
   "id": "f0f2fa80",
   "metadata": {},
   "outputs": [
    {
     "name": "stdout",
     "output_type": "stream",
     "text": [
      "출력 디렉터리 '/home/ds4_sia_nolb/#FINAL_POLARIS/06_Geo_coding/re_combined_data_by_year/'를 확인하거나 생성했습니다.\n",
      "'/home/ds4_sia_nolb/#FINAL_POLARIS/06_Geo_coding/re_combined_data_by_year/new_combined_data_2016.json' 파일에 2016년 데이터 7385개가 저장되었습니다.\n",
      "'/home/ds4_sia_nolb/#FINAL_POLARIS/06_Geo_coding/re_combined_data_by_year/new_combined_data_2017.json' 파일에 2017년 데이터 7924개가 저장되었습니다.\n",
      "'/home/ds4_sia_nolb/#FINAL_POLARIS/06_Geo_coding/re_combined_data_by_year/new_combined_data_2018.json' 파일에 2018년 데이터 7224개가 저장되었습니다.\n",
      "'/home/ds4_sia_nolb/#FINAL_POLARIS/06_Geo_coding/re_combined_data_by_year/new_combined_data_2019.json' 파일에 2019년 데이터 5786개가 저장되었습니다.\n",
      "'/home/ds4_sia_nolb/#FINAL_POLARIS/06_Geo_coding/re_combined_data_by_year/new_combined_data_2020.json' 파일에 2020년 데이터 3202개가 저장되었습니다.\n",
      "'/home/ds4_sia_nolb/#FINAL_POLARIS/06_Geo_coding/re_combined_data_by_year/new_combined_data_2021.json' 파일에 2021년 데이터 2218개가 저장되었습니다.\n",
      "'/home/ds4_sia_nolb/#FINAL_POLARIS/06_Geo_coding/re_combined_data_by_year/new_combined_data_2022.json' 파일에 2022년 데이터 4391개가 저장되었습니다.\n",
      "'/home/ds4_sia_nolb/#FINAL_POLARIS/06_Geo_coding/re_combined_data_by_year/new_combined_data_2023.json' 파일에 2023년 데이터 3529개가 저장되었습니다.\n",
      "'/home/ds4_sia_nolb/#FINAL_POLARIS/06_Geo_coding/re_combined_data_by_year/new_combined_data_2024.json' 파일에 2024년 데이터 2852개가 저장되었습니다.\n",
      "'/home/ds4_sia_nolb/#FINAL_POLARIS/06_Geo_coding/re_combined_data_by_year/new_combined_data_2025.json' 파일에 2025년 데이터 1016개가 저장되었습니다.\n",
      "\n",
      "모든 파일 분할 및 저장이 완료되었습니다. ✅\n"
     ]
    }
   ],
   "source": [
    "import json\n",
    "import os\n",
    "from datetime import datetime\n",
    "\n",
    "# 1. 파일 경로 정의\n",
    "input_file_path = '/home/ds4_sia_nolb/#FINAL_POLARIS/06_Geo_coding/re_final_combined_data_ten_year.json'\n",
    "output_dir = '/home/ds4_sia_nolb/#FINAL_POLARIS/06_Geo_coding/re_combined_data_by_year/'\n",
    "\n",
    "# 2. 출력 디렉터리 생성 (존재하지 않을 경우)\n",
    "os.makedirs(output_dir, exist_ok=True)\n",
    "print(f\"출력 디렉터리 '{output_dir}'를 확인하거나 생성했습니다.\")\n",
    "\n",
    "# 3. 전체 데이터 불러오기\n",
    "try:\n",
    "    with open(input_file_path, 'r', encoding='utf-8') as f:\n",
    "        data = json.load(f)\n",
    "except FileNotFoundError:\n",
    "    print(f\"오류: 입력 파일이 존재하지 않습니다. 경로를 확인해주세요: {input_file_path}\")\n",
    "    exit()\n",
    "\n",
    "# 4. pubDate 기준으로 데이터 정렬\n",
    "sorted_data = sorted(data, key=lambda x: datetime.strptime(x['pubDate'], '%Y-%m-%d %H:%M:%S'))\n",
    "\n",
    "# 5. 연도별로 데이터 그룹화\n",
    "grouped_by_year = {}\n",
    "for item in sorted_data:\n",
    "    try:\n",
    "        year = datetime.strptime(item['pubDate'], '%Y-%m-%d %H:%M:%S').year\n",
    "        if year not in grouped_by_year:\n",
    "            grouped_by_year[year] = []\n",
    "        grouped_by_year[year].append(item)\n",
    "    except (KeyError, ValueError):\n",
    "        print(f\"경고: 유효하지 않은 'pubDate' 형식을 가진 항목이 발견되어 건너뜁니다: {item}\")\n",
    "        continue\n",
    "\n",
    "# 6. 각 연도별 데이터를 지정된 폴더에 JSON 파일로 저장\n",
    "for year, items in grouped_by_year.items():\n",
    "    output_file_path = os.path.join(output_dir, f'new_combined_data_{year}.json')\n",
    "    with open(output_file_path, 'w', encoding='utf-8') as f:\n",
    "        json.dump(items, f, indent=4, ensure_ascii=False)\n",
    "    print(f\"'{output_file_path}' 파일에 {year}년 데이터 {len(items)}개가 저장되었습니다.\")\n",
    "\n",
    "print(\"\\n모든 파일 분할 및 저장이 완료되었습니다. ✅\")"
   ]
  }
 ],
 "metadata": {
  "kernelspec": {
   "display_name": "sia",
   "language": "python",
   "name": "python3"
  },
  "language_info": {
   "codemirror_mode": {
    "name": "ipython",
    "version": 3
   },
   "file_extension": ".py",
   "mimetype": "text/x-python",
   "name": "python",
   "nbconvert_exporter": "python",
   "pygments_lexer": "ipython3",
   "version": "3.12.3"
  }
 },
 "nbformat": 4,
 "nbformat_minor": 5
}
