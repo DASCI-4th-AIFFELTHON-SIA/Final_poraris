{
 "cells": [
  {
   "cell_type": "code",
   "execution_count": 2,
   "id": "3eacd088",
   "metadata": {},
   "outputs": [
    {
     "name": "stdout",
     "output_type": "stream",
     "text": [
      "데이터 추출 성공. 결과를 파일에 저장합니다.\n",
      "결과가 성공적으로 /home/ds4_sia_nolb/#FINAL_POLARIS/06_Geo_coding/re_extracted_locations_result_ten_year_all.jsonl에 저장되었습니다.\n"
     ]
    }
   ],
   "source": [
    "import json\n",
    "\n",
    "def extract_locations(file_path):\n",
    "    \"\"\"\n",
    "    주어진 JSON 파일에서 'id_'와 'locations' 필드만 추출하여 새로운 리스트를 반환합니다.\n",
    "\n",
    "    Args:\n",
    "        file_path (str): JSON 파일의 경로.\n",
    "\n",
    "    Returns:\n",
    "        list: 'id_'와 'locations'만 포함된 딕셔너리들의 리스트.\n",
    "              오류 발생 시 빈 리스트를 반환합니다.\n",
    "    \"\"\"\n",
    "    extracted_data = []\n",
    "    try:\n",
    "        with open(file_path, 'r', encoding='utf-8') as f:\n",
    "            # 파일이 JSONL 형식일 경우를 대비하여 한 줄씩 읽어서 처리\n",
    "            for line in f:\n",
    "                item = json.loads(line.strip())\n",
    "                # 'id_'와 'locations' 필드가 존재하는지 확인\n",
    "                if 'id_' in item and 'locations' in item:\n",
    "                    extracted_data.append({\n",
    "                        'id_': item['id_'],\n",
    "                        'locations': item['locations']\n",
    "                    })\n",
    "    except FileNotFoundError:\n",
    "        print(f\"오류: 파일을 찾을 수 없습니다 - {file_path}\")\n",
    "    except json.JSONDecodeError:\n",
    "        print(f\"오류: JSON 디코딩에 실패했습니다. 파일 형식을 확인해주세요.\")\n",
    "    except Exception as e:\n",
    "        print(f\"예상치 못한 오류가 발생했습니다: {e}\")\n",
    "        \n",
    "    return extracted_data\n",
    "\n",
    "def save_results(data, output_file_path):\n",
    "    \"\"\"\n",
    "    추출된 데이터를 JSONL 형식으로 파일에 저장합니다.\n",
    "    JSONL 형식은 각 JSON 객체가 한 줄에 하나씩 작성된 형식입니다.\n",
    "\n",
    "    Args:\n",
    "        data (list): 저장할 데이터가 담긴 딕셔너리 리스트.\n",
    "        output_file_path (str): 결과를 저장할 파일의 경로.\n",
    "    \"\"\"\n",
    "    try:\n",
    "        with open(output_file_path, 'w', encoding='utf-8') as f:\n",
    "            for item in data:\n",
    "                f.write(json.dumps(item, ensure_ascii=False) + '\\n')\n",
    "        print(f\"결과가 성공적으로 {output_file_path}에 저장되었습니다.\")\n",
    "    except Exception as e:\n",
    "        print(f\"오류: 파일 저장 중 문제가 발생했습니다: {e}\")\n",
    "\n",
    "# 입력 파일 경로\n",
    "input_file_path = '/home/ds4_sia_nolb/#FINAL_POLARIS/06_Geo_coding/re_extracted_locations_ten_year_all.jsonl'\n",
    "# 출력 파일 경로 (원하는 이름으로 변경 가능)\n",
    "output_file_path = '/home/ds4_sia_nolb/#FINAL_POLARIS/06_Geo_coding/re_extracted_locations_result_ten_year_all.jsonl'\n",
    "\n",
    "# 함수 실행 및 결과 저장\n",
    "result = extract_locations(input_file_path)\n",
    "\n",
    "if result:\n",
    "    print(\"데이터 추출 성공. 결과를 파일에 저장합니다.\")\n",
    "    save_results(result, output_file_path)\n",
    "else:\n",
    "    print(\"추출된 데이터가 없거나 오류가 발생했습니다.\")"
   ]
  }
 ],
 "metadata": {
  "kernelspec": {
   "display_name": "sia",
   "language": "python",
   "name": "python3"
  },
  "language_info": {
   "codemirror_mode": {
    "name": "ipython",
    "version": 3
   },
   "file_extension": ".py",
   "mimetype": "text/x-python",
   "name": "python",
   "nbconvert_exporter": "python",
   "pygments_lexer": "ipython3",
   "version": "3.12.3"
  }
 },
 "nbformat": 4,
 "nbformat_minor": 5
}
